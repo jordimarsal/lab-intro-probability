{
 "cells": [
  {
   "cell_type": "markdown",
   "metadata": {},
   "source": [
    "# Challenge 1\n",
    "\n",
    "A and B are events of a certain probability space $(\\omega, \\sigma, P)$ such that $P(A) = 0.3$, $P(B) = 0.6$ and $P(A \\cap B) = 0.1$.\n",
    "\n",
    "Which are false?\n",
    "* $P(A \\cup B) = 0.6$ __FALSE__\n",
    "* $P(A \\cap B^{C}) = 0.2$\n",
    "* $P(A \\cap (B \\cup B^{C})) = 0.4$  __FALSE__\n",
    "* $P(A^{C} \\cap B^{C}) = 0.3$  __FALSE__\n",
    "* $P((A \\cap B)^{C}) = 0.9$"
   ]
  },
  {
   "cell_type": "markdown",
   "metadata": {},
   "source": [
    "# Challenge 2\n",
    "We have an urn with 10 white balls, 12 red balls and 8 black balls. Calculate the probability of:\n",
    "* Taking a white ball. __10/30__\n",
    "* Taking a white ball after taking a black ball. __10/29__\n",
    "* Taking a red ball after taking a black and a red ball. __11/28__\n",
    "* Taking a red ball after taking a black and a red ball with reposition (that means after taking a ball I put it back to the urn).__12/30__\n"
   ]
  },
  {
   "cell_type": "markdown",
   "metadata": {},
   "source": [
    "# Challenge 3\n",
    "\n",
    "You are planning a picnic today, but the morning is cloudy. So you look for some data:\n",
    "* 50% of all rainy days start off cloudy! __C in R = 0.1*0.5= 0.05__ \n",
    "* But cloudy mornings are common (about 40% of days start cloudy) __C = 0.4__\n",
    "* And this is usually a dry month (only 3 of 30 days (10%) tend to be rainy) __R = 0.1 __\n",
    "\n",
    "What is the chance of rain during the day? __P(C in R) / P(C) = 0.05/0.4 = 0.125__\n",
    "\n"
   ]
  },
  {
   "cell_type": "markdown",
   "metadata": {},
   "source": [
    "# Challenge 4\n",
    "\n",
    "By conducting a telephone survey, we asked 1000 people if they thought it is necessary to have more street lighting at night.\n",
    "\n",
    "We have met 480 men, 324 of which answered yes and 156 no, as well as 520 women, 351 of which answered yes and 169 no. We wonder if men and women have a different opinion or if gender is irrelevant to the question.\n",
    "\n",
    "(To see more clearly what they told us, it is best to place the data in a table)\n",
    "\n",
    "\n",
    "Consider the following events:\n",
    "- Wants more light (answered yes)\n",
    "- A man answered\n",
    "\n",
    "\n",
    "We ask ourselves if these events are independent, that is, if the fact of wanting more light depends on whether one is male or female. Are these events independent or not?"
   ]
  },
  {
   "cell_type": "markdown",
   "metadata": {},
   "source": [
    "        Y\tN\tSuma\tdiv\t        div\t\n",
    "Men &nbsp;\t&nbsp;&nbsp;&nbsp;    324&nbsp;&nbsp;&nbsp;&nbsp;\t156\t&nbsp;&nbsp;&nbsp;&nbsp;480\t  &nbsp;&nbsp;&nbsp;&nbsp;&nbsp;&nbsp;&nbsp;324/480 =&nbsp;0,675 &nbsp;&nbsp;&nbsp;156/480 =\t0,325<br>\n",
    "Women\t&nbsp;351\t&nbsp;&nbsp;&nbsp;&nbsp;169\t&nbsp;&nbsp;&nbsp;&nbsp;520\t &nbsp;&nbsp;&nbsp;&nbsp; &nbsp; 351/520 = 0,675 &nbsp;&nbsp;&nbsp;169/520 =\t0,325<br>\n",
    "Suma\t&nbsp;&nbsp;&nbsp;&nbsp;675&nbsp;&nbsp;&nbsp;&nbsp;\t325&nbsp;&nbsp;\t1000 &nbsp;&nbsp; &nbsp;&nbsp;&nbsp;675/1000 = 0,675&nbsp;&nbsp;&nbsp;325/1000 =\t0,325<br>"
   ]
  },
  {
   "cell_type": "markdown",
   "metadata": {},
   "source": [
    "#### No hi ha dependència. Els resultats són els mateixos per home i per dona."
   ]
  },
  {
   "cell_type": "code",
   "execution_count": null,
   "metadata": {},
   "outputs": [],
   "source": []
  }
 ],
 "metadata": {
  "kernelspec": {
   "display_name": "Python 3",
   "language": "python",
   "name": "python3"
  },
  "language_info": {
   "codemirror_mode": {
    "name": "ipython",
    "version": 3
   },
   "file_extension": ".py",
   "mimetype": "text/x-python",
   "name": "python",
   "nbconvert_exporter": "python",
   "pygments_lexer": "ipython3",
   "version": "3.6.8"
  },
  "toc": {
   "base_numbering": 1,
   "nav_menu": {},
   "number_sections": false,
   "sideBar": true,
   "skip_h1_title": false,
   "title_cell": "Table of Contents",
   "title_sidebar": "Contents",
   "toc_cell": false,
   "toc_position": {},
   "toc_section_display": true,
   "toc_window_display": false
  },
  "varInspector": {
   "cols": {
    "lenName": 16,
    "lenType": 16,
    "lenVar": 40
   },
   "kernels_config": {
    "python": {
     "delete_cmd_postfix": "",
     "delete_cmd_prefix": "del ",
     "library": "var_list.py",
     "varRefreshCmd": "print(var_dic_list())"
    },
    "r": {
     "delete_cmd_postfix": ") ",
     "delete_cmd_prefix": "rm(",
     "library": "var_list.r",
     "varRefreshCmd": "cat(var_dic_list()) "
    }
   },
   "types_to_exclude": [
    "module",
    "function",
    "builtin_function_or_method",
    "instance",
    "_Feature"
   ],
   "window_display": false
  }
 },
 "nbformat": 4,
 "nbformat_minor": 2
}
